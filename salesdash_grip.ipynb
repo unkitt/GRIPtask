{
 "cells": [
  {
   "cell_type": "code",
   "execution_count": 2,
   "id": "eedb0b81-50ae-4552-a394-07a67d1200d1",
   "metadata": {},
   "outputs": [],
   "source": [
    "import pandas as pd\n",
    "import matplotlib.pyplot as plt\n",
    "import seaborn as sns\n",
    "import numpy as np"
   ]
  },
  {
   "cell_type": "code",
   "execution_count": null,
   "id": "8735ec05-a4ca-49a0-961a-ceb51267c9f1",
   "metadata": {},
   "outputs": [],
   "source": [
    "dt= pd.read_csv(\"\"C:\\Users\\asus\\Downloads\\SampleSuperstore (1).csv\")"
   ]
  }
 ],
 "metadata": {
  "kernelspec": {
   "display_name": "Python 3 (ipykernel)",
   "language": "python",
   "name": "python3"
  },
  "language_info": {
   "codemirror_mode": {
    "name": "ipython",
    "version": 3
   },
   "file_extension": ".py",
   "mimetype": "text/x-python",
   "name": "python",
   "nbconvert_exporter": "python",
   "pygments_lexer": "ipython3",
   "version": "3.12.3"
  }
 },
 "nbformat": 4,
 "nbformat_minor": 5
}
